{
  "cells": [
    {
      "cell_type": "raw",
      "metadata": {},
      "source": [
        "---\n",
        "title: \"Basic Reactivity\"\n",
        "code-annotations: hover\n",
        "---"
      ],
      "id": "96d71ff2"
    },
    {
      "cell_type": "code",
      "metadata": {},
      "source": [
        "# | echo: false\n",
        "\n",
        "from helpers import include_shiny_folder, problem_tabs"
      ],
      "id": "9b28e6dd",
      "execution_count": null,
      "outputs": []
    },
    {
      "cell_type": "markdown",
      "metadata": {},
      "source": [
        "In the last section we built a very simple shiny app which multiplied two numbers together based on the user's input.\n",
        "One thing you might notice about the code which genrated this application is that while we specify _what_ should happen in response to a user's action, we don't actually specify _when_ it should happen. \n",
        "There are no callbacks in this application which define when a bit of code should re-run, so how does shiny know when to run the code?\n",
        "\n",
        "Shiny is different from many other frameworks because it is declarative. \n",
        "Instead of specifying when code should run, you specify recipes for creating the output you want to run, and then leave it up to Shiny to figure out when to rerun them. \n",
        "Shiny does this by inferring a `reactive computation graph` for your application and reredenering downstream elements whenever the upstream elements change. \n",
        "\n",
        "\n",
        ":::: {.grid .column-screen-inset}\n",
        "::: {.g-col-12 .g-col-md-9}"
      ],
      "id": "e69b7f87"
    },
    {
      "cell_type": "code",
      "metadata": {},
      "source": [
        "#| echo: false\n",
        "#| output: asis  \n",
        "include_shiny_folder(\n",
        "    \"apps/basic-app\", file_name=\"app-solution.py\", exclusions=[\"app.py\"]\n",
        ")"
      ],
      "id": "40c282d4",
      "execution_count": null,
      "outputs": []
    },
    {
      "cell_type": "markdown",
      "metadata": {},
      "source": [
        ":::\n",
        "\n",
        "::: {.g-col-12 .g-col-md-3 #vcenter}\n",
        "```{mermaid}\n",
        "flowchart TD\n",
        "  N[input.n] --> M((product))\n",
        "  K[input.multiplier] --> Q((quotient))\n",
        "  N --> Q\n",
        "  K --> M\n",
        "```\n",
        ":::\n",
        "::::\n"
      ],
      "id": "d10b382c"
    }
  ],
  "metadata": {
    "kernelspec": {
      "name": "python3",
      "language": "python",
      "display_name": "Python 3 (ipykernel)"
    }
  },
  "nbformat": 4,
  "nbformat_minor": 5
}